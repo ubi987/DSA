{
 "cells": [
  {
   "cell_type": "markdown",
   "id": "6d8a061b-9ff8-4d4c-b8d9-53e1a4388393",
   "metadata": {},
   "source": [
    "Q1 SOLUTION"
   ]
  },
  {
   "cell_type": "code",
   "execution_count": 1,
   "id": "255097a8-5252-4e73-b2bd-d487212bbf17",
   "metadata": {},
   "outputs": [
    {
     "name": "stdout",
     "output_type": "stream",
     "text": [
      "sllikswp\n"
     ]
    }
   ],
   "source": [
    "str = \"pwskills\"\n",
    "print(str[::-1])"
   ]
  },
  {
   "cell_type": "markdown",
   "id": "be6c2d0a-dd5a-4ce7-a90a-0038018c5c24",
   "metadata": {},
   "source": [
    "Q2 SOLUTION"
   ]
  },
  {
   "cell_type": "code",
   "execution_count": 10,
   "id": "c2060843-6055-4ede-9ae5-d5240c2209fb",
   "metadata": {},
   "outputs": [
    {
     "name": "stdin",
     "output_type": "stream",
     "text": [
      "Enter a string racecar\n"
     ]
    },
    {
     "name": "stdout",
     "output_type": "stream",
     "text": [
      "The string is a palindrome\n"
     ]
    }
   ],
   "source": [
    "def palindrome(str):\n",
    "    if str[::] == str[::-1]:\n",
    "        print(\"The string is a palindrome\")\n",
    "    else:\n",
    "        print(\"The string is not a palindrome\")\n",
    "str = input(\"Enter a string\")\n",
    "palindrome(str)"
   ]
  },
  {
   "cell_type": "markdown",
   "id": "d1aa53f4-bf7d-4310-a43f-b697ce7957cc",
   "metadata": {},
   "source": [
    "Q3 SOLUTION"
   ]
  },
  {
   "cell_type": "code",
   "execution_count": 9,
   "id": "67ed08e2-476f-419e-a3b7-ddfedc33abf4",
   "metadata": {},
   "outputs": [
    {
     "name": "stdout",
     "output_type": "stream",
     "text": [
      "20\n"
     ]
    }
   ],
   "source": [
    "def num(list):\n",
    "\n",
    "    list.sort()\n",
    "    print(list[-1])\n",
    "list = [5,6,1,13,2,5,20,3]\n",
    "num(list)"
   ]
  },
  {
   "cell_type": "markdown",
   "id": "f120eaad-6e9b-42b9-a587-9cc7396f55c4",
   "metadata": {},
   "source": [
    "Q4 SOLUTION"
   ]
  },
  {
   "cell_type": "code",
   "execution_count": 3,
   "id": "5a14a449-7858-4fc6-acb7-08c519e40548",
   "metadata": {},
   "outputs": [
    {
     "name": "stdout",
     "output_type": "stream",
     "text": [
      "{5: 2, 6: 1, 1: 1, 13: 1, 2: 1, 20: 1, 3: 1}\n"
     ]
    }
   ],
   "source": [
    "def func(list):\n",
    "    count = {}\n",
    "    for i in list:\n",
    "        if i in count:\n",
    "            count[i] += 1\n",
    "        else:\n",
    "            count[i] = 1\n",
    "    return count\n",
    "list = [5,6,1,13,2,5,20,3]           \n",
    "print(func(list))"
   ]
  },
  {
   "cell_type": "markdown",
   "id": "4eae83e6-b3c1-4050-8310-a42b3699a710",
   "metadata": {},
   "source": [
    "Q5 SOLUTION"
   ]
  },
  {
   "cell_type": "code",
   "execution_count": 1,
   "id": "75178f32-3d5e-4f59-af4c-c0ca257a22e3",
   "metadata": {},
   "outputs": [
    {
     "name": "stdout",
     "output_type": "stream",
     "text": [
      "13\n"
     ]
    }
   ],
   "source": [
    "def num(list):\n",
    "\n",
    "    list.sort()\n",
    "    print(list[-2])\n",
    "list = [5,6,1,13,2,5,20,3]\n",
    "print(num(list))"
   ]
  },
  {
   "cell_type": "markdown",
   "id": "8af2f85d-7eae-4886-8ae8-a14a807a4f34",
   "metadata": {},
   "source": [
    "Q6 SOLUTION"
   ]
  },
  {
   "cell_type": "code",
   "execution_count": 5,
   "id": "4dc16dc9-67e7-48ef-9991-2956a61d23d6",
   "metadata": {},
   "outputs": [
    {
     "name": "stdout",
     "output_type": "stream",
     "text": [
      "[5, 6, 1, 13, 2, 20, 3]\n"
     ]
    }
   ],
   "source": [
    "def dupl(list):\n",
    "    list1 = []\n",
    "    for i in list:\n",
    "        if i not in list1:\n",
    "            list1.append(i)\n",
    "    return list1\n",
    "list = [5,6,1,13,2,5,20,3]\n",
    "print(dupl(list))"
   ]
  },
  {
   "cell_type": "markdown",
   "id": "cf7ad948-2430-48d2-9e38-8d0a87b52073",
   "metadata": {},
   "source": [
    "Q7 SOLUTION"
   ]
  },
  {
   "cell_type": "code",
   "execution_count": 10,
   "id": "63ad966e-ab92-4e1a-9af0-3c6f82832ad3",
   "metadata": {},
   "outputs": [
    {
     "name": "stdout",
     "output_type": "stream",
     "text": [
      "120\n"
     ]
    }
   ],
   "source": [
    "def fact(num):\n",
    "    factorial = 1 \n",
    "    if num == 0 or num == 1:\n",
    "        factorial = 1\n",
    "    else:\n",
    "        for i in range(1, num+1):\n",
    "            factorial = factorial * i\n",
    "    return factorial\n",
    "print(fact(5))"
   ]
  },
  {
   "cell_type": "markdown",
   "id": "96fdf8ce-8f73-481d-84fc-ee98e819fb5d",
   "metadata": {},
   "source": [
    "Q8 SOLUTION"
   ]
  },
  {
   "cell_type": "code",
   "execution_count": 21,
   "id": "5e7e1938-cdda-422c-a874-a9230fe82d54",
   "metadata": {},
   "outputs": [
    {
     "name": "stdout",
     "output_type": "stream",
     "text": [
      "The number is not a prime no\n"
     ]
    }
   ],
   "source": [
    "def prime(num):\n",
    "    if num>1:\n",
    "        for i in range(2, int(num/2)+1):\n",
    "            if num% i == 0:\n",
    "                print(\"The number is not a prime no\")\n",
    "                break\n",
    "            else:\n",
    "                print(\"The number is a prime no\")\n",
    "    else:\n",
    "        print(\"The number is not a prime number\")\n",
    "prime(40)"
   ]
  },
  {
   "cell_type": "markdown",
   "id": "f275077c-f091-458b-ab25-4b3268d13822",
   "metadata": {},
   "source": [
    "Q9 SOLUTION"
   ]
  },
  {
   "cell_type": "code",
   "execution_count": 2,
   "id": "3d38e55d-9300-423e-8b48-06328babb75c",
   "metadata": {},
   "outputs": [
    {
     "name": "stdout",
     "output_type": "stream",
     "text": [
      "[1, 2, 3, 5, 5, 6, 13, 20]\n"
     ]
    }
   ],
   "source": [
    "def num(list):\n",
    "\n",
    "    list.sort()\n",
    "    return list\n",
    "list = [5,6,1,13,2,5,20,3]\n",
    "print(num(list))"
   ]
  },
  {
   "cell_type": "markdown",
   "id": "536fad18-7158-44e9-bc27-0f09060b527b",
   "metadata": {},
   "source": [
    "Q10 SOLUTION"
   ]
  },
  {
   "cell_type": "code",
   "execution_count": 3,
   "id": "5b152261-e810-42eb-bf30-62501d0b480a",
   "metadata": {},
   "outputs": [
    {
     "name": "stdout",
     "output_type": "stream",
     "text": [
      "55\n"
     ]
    }
   ],
   "source": [
    "def sum(list):\n",
    "    sum = 0 \n",
    "    for i in list:\n",
    "        sum = sum + i\n",
    "    return sum\n",
    "list = [5,6,1,13,2,5,20,3]\n",
    "print(sum(list))"
   ]
  },
  {
   "cell_type": "markdown",
   "id": "90a90ba6-574e-41e6-92f4-a67089059384",
   "metadata": {},
   "source": [
    "Q11 SOLUTION"
   ]
  },
  {
   "cell_type": "code",
   "execution_count": 6,
   "id": "c319130d-f89c-45d0-95f9-f342d9a7d594",
   "metadata": {},
   "outputs": [
    {
     "name": "stdout",
     "output_type": "stream",
     "text": [
      "[5, 1, 2, 3]\n"
     ]
    }
   ],
   "source": [
    "list1 = [5,6,1,13,2,20,3]\n",
    "list2 = [4,5,1,34,56,2,3,9]\n",
    "list3 = []\n",
    "for i in list1:\n",
    "    if i in list2:\n",
    "        list3.append(i)\n",
    "print(list3)"
   ]
  },
  {
   "cell_type": "markdown",
   "id": "057c8213-3106-4796-a6d7-25b55887df07",
   "metadata": {},
   "source": [
    "Q12 SOLUTION"
   ]
  },
  {
   "cell_type": "code",
   "execution_count": 1,
   "id": "7d763b00-2a3c-48be-89d1-515e92fa8fef",
   "metadata": {},
   "outputs": [
    {
     "name": "stdout",
     "output_type": "stream",
     "text": [
      "anagram\n"
     ]
    }
   ],
   "source": [
    "def anagram(str1, str2):\n",
    "    str1dict= {}\n",
    "    str2dict= {}\n",
    "    for i in str1:\n",
    "        if i in str1dict:\n",
    "            str1dict[i] += 1\n",
    "        else:\n",
    "            str1dict[i] = 1\n",
    "    for j in str2:\n",
    "        if j in str2dict:\n",
    "            str2dict[j] += 1\n",
    "        else:\n",
    "            str2dict[j] = 1\n",
    "    if str1dict == str2dict:\n",
    "        print(\"anagram\")\n",
    "    else: \n",
    "        print(\"not anagram\")\n",
    "            \n",
    "str1 = \"listen\"\n",
    "str2 = \"silent\"\n",
    "anagram(str1, str2)"
   ]
  },
  {
   "cell_type": "markdown",
   "id": "1c118e04-df6e-45d4-88d8-aa246658ba74",
   "metadata": {},
   "source": [
    "Q13 SOLUTION"
   ]
  },
  {
   "cell_type": "code",
   "execution_count": null,
   "id": "bc96c6a1-c667-4206-8330-6d92d7820ffa",
   "metadata": {},
   "outputs": [],
   "source": [
    "import itertools\n",
    "\n",
    "def generate_permutations(string):\n",
    "    chars = list(string)\n",
    "    \n",
    "    permutations = itertools.permutations(chars)\n",
    "    \n",
    "    result = [''.join(perm) for perm in permutations]\n",
    "    \n",
    "    return result\n",
    "\n",
    "input_string = input(\"Enter a string: \")\n",
    "permutations = generate_permutations(input_string)\n",
    "\n",
    "print(\"All permutations of '{}' are:\".format(input_string))\n",
    "for perm in permutations:\n",
    "    print(perm)\n"
   ]
  },
  {
   "cell_type": "markdown",
   "id": "21a783e5-22c3-4201-ab32-5a6a211a1729",
   "metadata": {},
   "source": [
    "Q14 SOLUTION"
   ]
  },
  {
   "cell_type": "code",
   "execution_count": null,
   "id": "6d5be35b-4f55-46cb-80ea-608b3430e288",
   "metadata": {},
   "outputs": [],
   "source": [
    "def fib(n):\n",
    "    fib = 0\n",
    "    if n == 0:\n",
    "        return []\n",
    "    elif n == 1:\n",
    "        return [0]\n",
    "    elif n == 2:\n",
    "        return [0, 1]\n",
    "    else:\n",
    "        fib = [0, 1]\n",
    "        for i in range(n + 1):\n",
    "            element = fib[-1] + fib[-2]\n",
    "            fib.append(element)\n",
    "    return fib\n",
    "print(fib(7))"
   ]
  },
  {
   "cell_type": "markdown",
   "id": "3c7fd56c-cccf-4128-af79-175875143f53",
   "metadata": {},
   "source": [
    "Q15 SOLUTION"
   ]
  },
  {
   "cell_type": "code",
   "execution_count": null,
   "id": "9508e4a5-d481-4481-bf2d-693a1867e765",
   "metadata": {},
   "outputs": [],
   "source": [
    "list = [5,6,1,13,2,5,20,3]\n",
    "list.sort()\n",
    "median = (len(list)+1)//2 \n",
    "print(list[median])"
   ]
  },
  {
   "cell_type": "markdown",
   "id": "4e1a85cb-eb61-49e7-a722-98783d4cc53e",
   "metadata": {},
   "source": [
    "Q16 SOLUTION"
   ]
  },
  {
   "cell_type": "code",
   "execution_count": null,
   "id": "3d0190ba-4cde-4511-8c33-8cce1e56a1b2",
   "metadata": {},
   "outputs": [],
   "source": [
    "def is_sorted(lst):\n",
    "    if len(lst) <= 1:\n",
    "        return True\n",
    "    \n",
    "    for i in range(len(lst) - 1):\n",
    "        if lst[i] > lst[i + 1]:\n",
    "            return False\n",
    "    \n",
    "    return True\n",
    "\n",
    "input_list = [1, 2, 3, 4, 5]\n",
    "result = is_sorted(input_list)\n",
    "\n",
    "if result:\n",
    "    print(\"The list is sorted in non-decreasing order.\")\n",
    "else:\n",
    "    print(\"The list is not sorted in non-decreasing order.\")\n"
   ]
  },
  {
   "cell_type": "markdown",
   "id": "43b72498-ff8e-4310-9de1-ead33021f615",
   "metadata": {},
   "source": [
    "Q17 SOLUTION"
   ]
  },
  {
   "cell_type": "code",
   "execution_count": null,
   "id": "7659f7a9-aced-4253-a863-2d391ad2892f",
   "metadata": {},
   "outputs": [],
   "source": [
    "def find_intersection(list1, list2):\n",
    "  \n",
    "    set1 = set(list1)\n",
    "    set2 = set(list2)\n",
    "   \n",
    "    intersection = set1.intersection(set2)\n",
    "    \n",
    "    result = list(intersection)\n",
    "    \n",
    "    return result\n",
    "\n",
    "list1 = [1, 2, 3, 4, 5]\n",
    "list2 = [4, 5, 6, 7, 8]\n",
    "intersection = find_intersection(list1, list2)\n",
    "\n",
    "print(\"The intersection of the two lists is:\")\n",
    "print(intersection)\n"
   ]
  },
  {
   "cell_type": "markdown",
   "id": "6e9b1fec-668a-4fd9-b0e6-f97bcd748731",
   "metadata": {},
   "source": [
    "Q18 SOLUTION"
   ]
  },
  {
   "cell_type": "code",
   "execution_count": null,
   "id": "b718b010-82ff-4afb-abe2-b692b0d96c6e",
   "metadata": {},
   "outputs": [],
   "source": [
    "def find_max_subarray_sum(arr):\n",
    "\n",
    "    if not arr:\n",
    "        return 0\n",
    "    \n",
    "    max_sum = float('-inf')  \n",
    "    current_sum = 0\n",
    "    \n",
    "    for num in arr:\n",
    "     \n",
    "        current_sum = max(num, current_sum + num)\n",
    "        \n",
    "        max_sum = max(max_sum, current_sum)\n",
    "    \n",
    "    return max_sum\n",
    "\n",
    "input_list = [-2, 1, -3, 4, -1, 2, 1, -5, 4]\n",
    "max_sum = find_max_subarray_sum(input_list)\n",
    "\n",
    "print(\"The maximum subarray sum is:\", max_sum)\n"
   ]
  },
  {
   "cell_type": "markdown",
   "id": "851b02e7-2865-41e7-8832-d7a17fcd47b9",
   "metadata": {},
   "source": [
    "Q19 SOLUTION"
   ]
  },
  {
   "cell_type": "code",
   "execution_count": null,
   "id": "767f530f-e301-4826-a3e8-5ae11d9f50e3",
   "metadata": {},
   "outputs": [],
   "source": [
    "def remove_vowels(string):\n",
    "    vowels = ['a', 'e', 'i', 'o', 'u', 'A', 'E', 'I', 'O', 'U']\n",
    "    \n",
    "    result = ''.join([char for char in string if char not in vowels])\n",
    "    \n",
    "    return result\n",
    "\n",
    "input_string = input(\"Enter a string: \")\n",
    "string_without_vowels = remove_vowels(input_string)\n",
    "\n",
    "print(\"String after removing vowels:\", string_without_vowels)\n"
   ]
  },
  {
   "cell_type": "markdown",
   "id": "2f99437f-19b4-459e-8711-572da45ae538",
   "metadata": {},
   "source": [
    "Q21 SOLUTION"
   ]
  },
  {
   "cell_type": "code",
   "execution_count": null,
   "id": "c731c6d1-e785-46a4-8fff-aa4b7233e012",
   "metadata": {},
   "outputs": [],
   "source": [
    "def are_anagrams(str1, str2):\n",
    "    \n",
    "    str1 = str1.lower().replace(\" \", \"\")\n",
    "    str2 = str2.lower().replace(\" \", \"\")\n",
    "    \n",
    "    return sorted(str1) == sorted(str2)\n"
   ]
  },
  {
   "cell_type": "markdown",
   "id": "7083e0d3-6730-4e8d-880b-414edb8b683f",
   "metadata": {},
   "source": [
    "Q22 SOLUTION"
   ]
  },
  {
   "cell_type": "code",
   "execution_count": null,
   "id": "d645fdaa-9ed1-4bb3-b360-3e658cad8e00",
   "metadata": {},
   "outputs": [],
   "source": [
    "from collections import Counter\n",
    "\n",
    "def find_first_non_repeating_char(string):\n",
    "  \n",
    "    char_counts = Counter(string)\n",
    "    \n",
    "    for char in string:\n",
    "        if char_counts[char] == 1:\n",
    "            return char\n",
    "    \n",
    "    return None  "
   ]
  },
  {
   "cell_type": "markdown",
   "id": "aa9dea2c-fbf8-44cc-8cff-8fd7b6dd4e18",
   "metadata": {},
   "source": [
    "Q23 SOLUTION"
   ]
  },
  {
   "cell_type": "code",
   "execution_count": null,
   "id": "28a986fe-9424-40b4-9684-36bede032bfe",
   "metadata": {},
   "outputs": [],
   "source": [
    "def find_prime_factors(num):\n",
    "    factors = []\n",
    "    divisor = 2\n",
    "    \n",
    "    while divisor <= num:\n",
    "        if num % divisor == 0:\n",
    "            factors.append(divisor)\n",
    "            num //= divisor\n",
    "        else:\n",
    "            divisor += 1\n",
    "    \n",
    "    return factors\n"
   ]
  },
  {
   "cell_type": "markdown",
   "id": "fd89799c-761c-4286-9c0b-622401eaaad8",
   "metadata": {},
   "source": [
    "Q24 SOLUTION"
   ]
  },
  {
   "cell_type": "code",
   "execution_count": null,
   "id": "3c92712e-93ea-4fd1-acb3-c8800342770e",
   "metadata": {},
   "outputs": [],
   "source": [
    "def is_power_of_two(num):\n",
    "    if num <= 0:\n",
    "        return False\n",
    "    \n",
    "    while num > 1:\n",
    "        if num % 2 != 0:\n",
    "            return False\n",
    "        num //= 2\n",
    "    \n",
    "    return True\n"
   ]
  },
  {
   "cell_type": "markdown",
   "id": "8ac45e7b-94d2-40a5-a9fc-ec693cd93069",
   "metadata": {},
   "source": [
    "Q25 SOLUTION"
   ]
  },
  {
   "cell_type": "code",
   "execution_count": null,
   "id": "d03f05cd-a2b1-40a1-80a8-e53b6824f654",
   "metadata": {},
   "outputs": [],
   "source": [
    "def merge_sorted_lists(list1, list2):\n",
    "    merged = []\n",
    "    i = j = 0\n",
    "    \n",
    "    while i < len(list1) and j < len(list2):\n",
    "        if list1[i] <= list2[j]:\n",
    "            merged.append(list1[i])\n",
    "            i += 1\n",
    "        else:\n",
    "            merged.append(list2[j])\n",
    "            j += 1\n",
    "    \n",
    "  \n",
    "    merged.extend(list1[i:])\n",
    "    merged.extend(list2[j:])\n",
    "    \n",
    "    return merged"
   ]
  },
  {
   "cell_type": "markdown",
   "id": "ee512765-22c1-46d7-85b2-c3f667864d41",
   "metadata": {},
   "source": [
    "Q26 SOLUTION"
   ]
  },
  {
   "cell_type": "code",
   "execution_count": null,
   "id": "d78a9a81-295f-421d-9384-9344faa98036",
   "metadata": {},
   "outputs": [],
   "source": [
    "from collections import Counter\n",
    "\n",
    "def find_mode(numbers):\n",
    " \n",
    "    counts = Counter(numbers)\n",
    "    \n",
    "\n",
    "    max_count = max(counts.values())\n",
    "    mode = [num for num, count in counts.items() if count == max_count]\n",
    "    \n",
    "    return mode\n"
   ]
  },
  {
   "cell_type": "markdown",
   "id": "7a008f30-d8b6-412b-81b2-4065f7a1991c",
   "metadata": {},
   "source": [
    "Q27 SOLUTION"
   ]
  },
  {
   "cell_type": "code",
   "execution_count": null,
   "id": "110a5c84-9ee4-41d6-ba8e-c86969fe4ffd",
   "metadata": {},
   "outputs": [],
   "source": [
    "def find_gcd(num1, num2):\n",
    "    while num2 != 0:\n",
    "        num1, num2 = num2, num1 % num2\n",
    "    \n",
    "    return num1\n"
   ]
  },
  {
   "cell_type": "markdown",
   "id": "a73f24d2-97e7-4d6b-a32e-0e5091447028",
   "metadata": {},
   "source": [
    "Q28 SOLUTION"
   ]
  },
  {
   "cell_type": "code",
   "execution_count": null,
   "id": "be1a3c35-75c3-4d14-a52e-21e5dd119778",
   "metadata": {},
   "outputs": [],
   "source": [
    "def square_root(num):\n",
    "    if num < 0:\n",
    "        raise ValueError(\"Square root is not defined for negative numbers.\")\n",
    "    \n",
    "    guess = num\n",
    "    epsilon = 1e-10  \n",
    "    while abs(guess * guess - num) > epsilon:\n",
    "        guess = (guess + num / guess) / 2\n",
    "    \n",
    "    return guess\n"
   ]
  },
  {
   "cell_type": "markdown",
   "id": "7de9903d-17be-4f7d-ba3b-0f3f5357f0b0",
   "metadata": {},
   "source": [
    "Q29 SOLUTION"
   ]
  },
  {
   "cell_type": "code",
   "execution_count": null,
   "id": "9e37d375-0759-4651-9e1c-e61c46bd75e6",
   "metadata": {},
   "outputs": [],
   "source": [
    "import re\n",
    "\n",
    "def is_valid_palindrome(string):\n",
    "   \n",
    "    cleaned = re.sub(r'[^a-zA-Z0-9]', '', string).lower()\n",
    "    \n",
    "    return cleaned == cleaned[::-1]\n"
   ]
  },
  {
   "cell_type": "markdown",
   "id": "38bece3d-66dd-4bc5-825e-6fd1790c39c0",
   "metadata": {},
   "source": [
    "Q30 SOLUTION"
   ]
  },
  {
   "cell_type": "code",
   "execution_count": null,
   "id": "f08e74cf-a28a-4b82-b29b-f6806bbf4215",
   "metadata": {},
   "outputs": [],
   "source": [
    "def find_min_element_rotated_sorted(nums):\n",
    "    left = 0\n",
    "    right = len(nums) - 1\n",
    "    \n",
    "    while left < right:\n",
    "        mid = (left + right) // 2\n",
    "        \n",
    "        if nums[mid] > nums[right]:\n",
    "            left = mid + 1\n",
    "        else:\n",
    "            right = mid\n",
    "    \n",
    "    return nums[left]\n"
   ]
  },
  {
   "cell_type": "markdown",
   "id": "651535cc-7c1e-444a-9b46-c1ec71263975",
   "metadata": {},
   "source": [
    "Q31 SOLUTION"
   ]
  },
  {
   "cell_type": "code",
   "execution_count": null,
   "id": "3383a0e1-159e-4fa6-8faa-3fe4ba7866c8",
   "metadata": {},
   "outputs": [],
   "source": [
    "def sum_even_numbers(numbers):\n",
    "    return sum(num for num in numbers if num % 2 == 0)\n"
   ]
  },
  {
   "cell_type": "markdown",
   "id": "f8e23405-c0a0-49f4-a235-aa3b3627d8b5",
   "metadata": {},
   "source": [
    "Q32 SOLUTION"
   ]
  },
  {
   "cell_type": "code",
   "execution_count": null,
   "id": "119f45d6-c9b4-4f42-9681-9e1886924eac",
   "metadata": {},
   "outputs": [],
   "source": [
    "def power(base, exponent):\n",
    "    if exponent == 0:\n",
    "        return 1\n",
    "    elif exponent > 0:\n",
    "        return base * power(base, exponent - 1)\n",
    "    else:\n",
    "        return 1 / power(base, -exponent)\n"
   ]
  },
  {
   "cell_type": "markdown",
   "id": "a17a3678-24c0-4510-8a09-8b45b20f57ef",
   "metadata": {},
   "source": [
    "Q33 SOLUTION"
   ]
  },
  {
   "cell_type": "code",
   "execution_count": null,
   "id": "6dc75a4a-1690-45c9-bd1d-205d704baeac",
   "metadata": {},
   "outputs": [],
   "source": [
    "def remove_duplicates_preserve_order(lst):\n",
    "    seen = set()\n",
    "    result = []\n",
    "    \n",
    "    for item in lst:\n",
    "        if item not in seen:\n",
    "            result.append(item)\n",
    "            seen.add(item)\n",
    "    \n",
    "    return result\n"
   ]
  },
  {
   "cell_type": "markdown",
   "id": "8d389e86-3d9b-47d5-8f5e-e5ef0f7996f0",
   "metadata": {},
   "source": [
    "Q34 SOLUTION"
   ]
  },
  {
   "cell_type": "code",
   "execution_count": null,
   "id": "d03a5e9d-c89c-48af-9826-80c373e3a112",
   "metadata": {},
   "outputs": [],
   "source": [
    "def longest_common_prefix(strings):\n",
    "    if not strings:\n",
    "        return \"\"\n",
    "    \n",
    "    prefix = strings[0]\n",
    "    \n",
    "    for string in strings[1:]:\n",
    "        while not string.startswith(prefix):\n",
    "            prefix = prefix[:-1]\n",
    "            if not prefix:\n",
    "                return \"\"\n",
    "    \n",
    "    return prefix\n"
   ]
  },
  {
   "cell_type": "code",
   "execution_count": null,
   "id": "2e573bf0-c10c-4f6a-8da6-863b494c97af",
   "metadata": {},
   "outputs": [],
   "source": [
    "Q35 SOLUTION"
   ]
  },
  {
   "cell_type": "code",
   "execution_count": null,
   "id": "7b7e5b19-ff16-4664-b8e4-29cec567f68d",
   "metadata": {},
   "outputs": [],
   "source": [
    "def is_perfect_square(num):\n",
    "    if num < 0:\n",
    "        return False\n",
    "    \n",
    "    root = int(num ** 0.5)\n",
    "    \n",
    "    return root * root == num\n"
   ]
  },
  {
   "cell_type": "markdown",
   "id": "1e114d46-ff43-4fa2-9ec9-ac928e4e7208",
   "metadata": {},
   "source": [
    "Q36 SOLUTION"
   ]
  },
  {
   "cell_type": "code",
   "execution_count": null,
   "id": "896dd396-b414-47f0-b0f7-fb44ed3c9145",
   "metadata": {},
   "outputs": [],
   "source": [
    "from functools import reduce\n",
    "import operator\n",
    "\n",
    "def product_of_elements(lst):\n",
    "    return reduce(operator.mul, lst, 1)\n"
   ]
  },
  {
   "cell_type": "markdown",
   "id": "a7f69c51-6d31-4260-82ac-e58081ca2b4c",
   "metadata": {},
   "source": [
    "Q37 SOLUTION"
   ]
  },
  {
   "cell_type": "code",
   "execution_count": null,
   "id": "5c83a67c-8a3f-46c1-8d0c-e943c57da870",
   "metadata": {},
   "outputs": [],
   "source": [
    "def reverse_sentence(sentence):\n",
    "    words = sentence.split()\n",
    "    reversed_words = words[::-1]\n",
    "    reversed_sentence = ' '.join(reversed_words)\n",
    "    \n",
    "    return reversed_sentence\n"
   ]
  },
  {
   "cell_type": "markdown",
   "id": "cbea6671-4f39-414f-b03f-e80778fa8360",
   "metadata": {},
   "source": [
    "Q38 SOLUTION"
   ]
  },
  {
   "cell_type": "code",
   "execution_count": null,
   "id": "45b04fa6-75aa-4eb1-b8be-cde8f0dd783a",
   "metadata": {},
   "outputs": [],
   "source": [
    "def find_missing_number(lst):\n",
    "    n = len(lst) + 1\n",
    "    total_sum = n * (n + 1) // 2\n",
    "    actual_sum = sum(lst)\n",
    "    \n",
    "    return total_sum - actual_sum\n"
   ]
  },
  {
   "cell_type": "markdown",
   "id": "ffe6cb46-6ed1-45e1-9b6f-85268beaf488",
   "metadata": {},
   "source": [
    "Q39 SOLUTION"
   ]
  },
  {
   "cell_type": "code",
   "execution_count": null,
   "id": "f8a85581-dce0-43cf-8697-15aba394502e",
   "metadata": {},
   "outputs": [],
   "source": [
    "def sum_of_digits(number):\n",
    "    return sum(int(digit) for digit in str(number) if digit.isdigit())\n"
   ]
  },
  {
   "cell_type": "markdown",
   "id": "3879e12d-3858-44f7-a618-90d03971c152",
   "metadata": {},
   "source": [
    "Q40 SOLUTION"
   ]
  },
  {
   "cell_type": "code",
   "execution_count": null,
   "id": "a2638443-6a2a-44db-be0f-e14a326708f5",
   "metadata": {},
   "outputs": [],
   "source": [
    "def is_valid_palindrome_case_sensitive(string):\n",
    "    return string == string[::-1]\n"
   ]
  },
  {
   "cell_type": "markdown",
   "id": "93b92229-2162-4c92-bbd2-63399ad8952f",
   "metadata": {},
   "source": [
    "Q41 SOLUTION"
   ]
  },
  {
   "cell_type": "code",
   "execution_count": null,
   "id": "e9c01463-3d44-4c29-a819-9525af470930",
   "metadata": {},
   "outputs": [],
   "source": [
    "def find_smallest_missing_positive(nums):\n",
    "    n = len(nums)\n",
    "    \n",
    "    for i in range(n):\n",
    "        if nums[i] <= 0:\n",
    "            nums[i] = n + 1\n",
    "    \n",
    "    for i in range(n):\n",
    "        num = abs(nums[i])\n",
    "        if num <= n:\n",
    "            nums[num - 1] = -abs(nums[num - 1])\n",
    "    \n",
    "    for i in range(n):\n",
    "        if nums[i] > 0:\n",
    "            return i + 1\n",
    "    \n",
    "    return n + 1\n"
   ]
  },
  {
   "cell_type": "markdown",
   "id": "4f3cdc24-533a-4482-ac3e-943b02d1aae8",
   "metadata": {},
   "source": [
    "Q42 SOLUTION"
   ]
  },
  {
   "cell_type": "code",
   "execution_count": null,
   "id": "6ef43992-0d56-4da4-ac6a-9b37ca34072e",
   "metadata": {},
   "outputs": [],
   "source": [
    "def longest_palindrome_substring(string):\n",
    "    def expand_from_center(left, right):\n",
    "        while left >= 0 and right < len(string) and string[left] == string[right]:\n",
    "            left -= 1\n",
    "            right += 1\n",
    "        return string[left + 1:right]\n",
    "    \n",
    "    longest = \"\"\n",
    "    \n",
    "    for i in range(len(string)):\n",
    "        odd_palindrome = expand_from_center(i, i)\n",
    "        even_palindrome = expand_from_center(i, i + 1)\n",
    "        \n",
    "        if len(odd_palindrome) > len(longest):\n",
    "            longest = odd_palindrome\n",
    "        if len(even_palindrome) > len(longest):\n",
    "            longest = even_palindrome\n",
    "    \n",
    "    return longest\n"
   ]
  },
  {
   "cell_type": "markdown",
   "id": "cb30a074-ced8-4dc6-8e9a-d83f57550e21",
   "metadata": {},
   "source": [
    "Q43 SOLUTION"
   ]
  },
  {
   "cell_type": "code",
   "execution_count": null,
   "id": "4803dcab-9401-4283-9734-0d2e15857116",
   "metadata": {},
   "outputs": [],
   "source": [
    "def count_occurrences(lst, element):\n",
    "    return lst.count(element)\n",
    "\n"
   ]
  },
  {
   "cell_type": "markdown",
   "id": "fc166249-b9c7-414c-9d6f-daa9aae4f9a7",
   "metadata": {},
   "source": [
    "Q44 SOLUTION"
   ]
  },
  {
   "cell_type": "code",
   "execution_count": null,
   "id": "f1a1d762-448e-445f-b66f-34a5522ee3ac",
   "metadata": {},
   "outputs": [],
   "source": [
    "def is_perfect_number(num):\n",
    "    if num <= 0:\n",
    "        return False\n",
    "    \n",
    "    divisor_sum = sum(i for i in range(1, num) if num % i == 0)\n",
    "    \n",
    "    return divisor_sum == num\n",
    "\n"
   ]
  },
  {
   "cell_type": "markdown",
   "id": "f5ecc19d-8cb8-491b-8a7f-88606bb948ac",
   "metadata": {},
   "source": [
    "Q45 SOLUTION"
   ]
  },
  {
   "cell_type": "code",
   "execution_count": null,
   "id": "195d9479-15e8-4e7c-8ae6-c7949c7226ae",
   "metadata": {},
   "outputs": [],
   "source": [
    "def remove_duplicates(string):\n",
    "    return \"\".join(dict.fromkeys(string))\n"
   ]
  },
  {
   "cell_type": "markdown",
   "id": "19a6a85f-e6de-47b7-9f65-259697cf60b3",
   "metadata": {},
   "source": [
    "Q46 SOLUTION"
   ]
  },
  {
   "cell_type": "code",
   "execution_count": null,
   "id": "b324bc3c-9c38-497d-a40e-9c78a9633351",
   "metadata": {},
   "outputs": [],
   "source": [
    "def find_first_missing_positive(nums):\n",
    "    n = len(nums)\n",
    "    \n",
    "    # Move positive numbers to their correct positions\n",
    "    i = 0\n",
    "    while i < n:\n",
    "        current_num = nums[i]\n",
    "        if 1 <= current_num <= n and nums[current_num - 1] != current_num:\n",
    "            nums[current_num - 1], nums[i] = nums[i], nums[current_num - 1]\n",
    "        else:\n",
    "            i += 1\n",
    "    \n",
    "    for i in range(n):\n",
    "        if nums[i] != i + 1:\n",
    "            return i + 1\n",
    "    \n",
    "    return n + 1\n"
   ]
  }
 ],
 "metadata": {
  "kernelspec": {
   "display_name": "Python 3 (ipykernel)",
   "language": "python",
   "name": "python3"
  },
  "language_info": {
   "codemirror_mode": {
    "name": "ipython",
    "version": 3
   },
   "file_extension": ".py",
   "mimetype": "text/x-python",
   "name": "python",
   "nbconvert_exporter": "python",
   "pygments_lexer": "ipython3",
   "version": "3.10.8"
  }
 },
 "nbformat": 4,
 "nbformat_minor": 5
}
