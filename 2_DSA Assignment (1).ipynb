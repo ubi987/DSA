{
 "cells": [
  {
   "cell_type": "markdown",
   "id": "517a3f89-b714-4a16-bffd-1c238890670c",
   "metadata": {},
   "source": [
    "Q1 SOLUTION"
   ]
  },
  {
   "cell_type": "code",
   "execution_count": 1,
   "id": "3f11d846-f2f7-4078-8674-1c68805e0113",
   "metadata": {},
   "outputs": [
    {
     "name": "stdout",
     "output_type": "stream",
     "text": [
      "4\n"
     ]
    }
   ],
   "source": [
    "def func(list1):\n",
    "  list1.sort()\n",
    "  sum = 0\n",
    "  for i in range(0,len(list1), 2):\n",
    "    sum = sum + min(list1[i], list1[i+1])\n",
    "  return sum\n",
    "list1 = [1,4,3,2]\n",
    "res = func(list1)\n",
    "print(res)"
   ]
  },
  {
   "cell_type": "markdown",
   "id": "5f2f8d1d-9ad8-46d8-b1e0-4e806883bf37",
   "metadata": {},
   "source": [
    "Q2 SOLUTION"
   ]
  },
  {
   "cell_type": "code",
   "execution_count": 3,
   "id": "ab2001ff-5b60-4ff1-9d78-211f6353418b",
   "metadata": {},
   "outputs": [
    {
     "name": "stdout",
     "output_type": "stream",
     "text": [
      "3\n"
     ]
    }
   ],
   "source": [
    "def max_candies(candyType):\n",
    "    n = len(candyType)\n",
    "    max_candy_types = len(set(candyType))\n",
    "    max_eaten = min(max_candy_types, n // 2)\n",
    "    return max_eaten\n",
    "candyType = [1,1,2,2,3,3]\n",
    "res = max_candies(candyType)\n",
    "print(res)"
   ]
  },
  {
   "cell_type": "markdown",
   "id": "bd5eaec9-500d-41d9-aa8e-f9f417d7aa0d",
   "metadata": {},
   "source": [
    "Q3 SOLUTION"
   ]
  },
  {
   "cell_type": "code",
   "execution_count": 4,
   "id": "c92da60c-5cf6-48bd-a163-ecf2498c06da",
   "metadata": {},
   "outputs": [
    {
     "name": "stdout",
     "output_type": "stream",
     "text": [
      "5\n"
     ]
    }
   ],
   "source": [
    "def findLHS(nums):\n",
    "    freq = {}\n",
    "    for num in nums:\n",
    "        freq[num] = freq.get(num, 0) + 1\n",
    "\n",
    "    max_length = 0\n",
    "    for num in nums:\n",
    "        if num + 1 in freq:\n",
    "            length = freq[num] + freq[num + 1]\n",
    "            max_length = max(max_length, length)\n",
    "\n",
    "    return max_length\n",
    "nums = [1,3,2,2,5,2,3,7]\n",
    "res = findLHS(nums)\n",
    "print(res)"
   ]
  },
  {
   "cell_type": "markdown",
   "id": "fc893e9e-8624-48d5-abc6-09295754b715",
   "metadata": {},
   "source": [
    "Q4 SOLUTION"
   ]
  },
  {
   "cell_type": "code",
   "execution_count": 5,
   "id": "75229dc8-652e-4d5d-acf5-8f179bb76316",
   "metadata": {},
   "outputs": [
    {
     "name": "stdout",
     "output_type": "stream",
     "text": [
      "True\n"
     ]
    }
   ],
   "source": [
    "def canPlaceFlowers(flowerbed, n):\n",
    "    count = 0\n",
    "    length = len(flowerbed)\n",
    "    for i in range(length):\n",
    "        if flowerbed[i] == 0 and (i == 0 or flowerbed[i - 1] == 0) and (i == length - 1 or flowerbed[i + 1] == 0):\n",
    "            flowerbed[i] = 1\n",
    "            count += 1\n",
    "            if count == n:\n",
    "                return True\n",
    "    return False\n",
    "flowerbed = [1,0,0,0,1]\n",
    "n = 1\n",
    "print(canPlaceFlowers(flowerbed, n))"
   ]
  },
  {
   "cell_type": "markdown",
   "id": "2608ba4b-c42a-4b05-9084-fedb662e3b84",
   "metadata": {},
   "source": [
    "Q5 SOLUTION"
   ]
  },
  {
   "cell_type": "code",
   "execution_count": 6,
   "id": "f0f8426c-e8ac-4e17-8a88-1cf4308b9a4d",
   "metadata": {},
   "outputs": [
    {
     "name": "stdout",
     "output_type": "stream",
     "text": [
      "24\n"
     ]
    }
   ],
   "source": [
    "def maximumProduct(nums):\n",
    "    nums.sort()\n",
    "    product1 = nums[-1] * nums[-2] * nums[-3]\n",
    "    product2 = nums[0] * nums[1] * nums[-1]\n",
    "    return max(product1, product2)\n",
    "nums = [1,2,3,4]\n",
    "print(maximumProduct(nums))"
   ]
  },
  {
   "cell_type": "markdown",
   "id": "40567135-ab34-44c1-b8df-a9f8eab9a01e",
   "metadata": {},
   "source": [
    "Q6 SOLUTION"
   ]
  },
  {
   "cell_type": "code",
   "execution_count": 7,
   "id": "b5a5a6d0-2af9-4e13-b193-a3dc0f038d91",
   "metadata": {},
   "outputs": [
    {
     "name": "stdout",
     "output_type": "stream",
     "text": [
      "4\n"
     ]
    }
   ],
   "source": [
    "def search(nums, target):\n",
    "    left = 0\n",
    "    right = len(nums) - 1\n",
    "\n",
    "    while left <= right:\n",
    "        mid = (left + right) // 2\n",
    "\n",
    "        if nums[mid] == target:\n",
    "            return mid\n",
    "        elif nums[mid] > target:\n",
    "            right = mid - 1\n",
    "        else:\n",
    "            left = mid + 1\n",
    "\n",
    "    return -1\n",
    "nums = [-1,0,3,5,9,12]\n",
    "target = 9\n",
    "print(search(nums, target))"
   ]
  },
  {
   "cell_type": "markdown",
   "id": "cd9a4a20-aa8c-46d0-9ad0-40bc27c231e6",
   "metadata": {},
   "source": [
    "Q7 SOLUTION"
   ]
  },
  {
   "cell_type": "code",
   "execution_count": 9,
   "id": "56026f07-0277-4cb6-83a0-1f90b73dece6",
   "metadata": {},
   "outputs": [
    {
     "name": "stdout",
     "output_type": "stream",
     "text": [
      "True\n"
     ]
    }
   ],
   "source": [
    "def isMonotonic(nums):\n",
    "    isIncreasing = True\n",
    "    isDecreasing = True\n",
    "\n",
    "    for i in range(1, len(nums)):\n",
    "        if nums[i] < nums[i - 1]:\n",
    "            isIncreasing = False\n",
    "        if nums[i] > nums[i - 1]:\n",
    "            isDecreasing = False\n",
    "\n",
    "    return isIncreasing or isDecreasing\n",
    "nums = [1,2,2,3]\n",
    "print(isMonotonic(nums))"
   ]
  },
  {
   "cell_type": "markdown",
   "id": "1af0c77e-12b5-4bee-9d78-53ee28c01ce2",
   "metadata": {},
   "source": [
    "Q8 SOLUTION"
   ]
  },
  {
   "cell_type": "code",
   "execution_count": 11,
   "id": "36979bad-0766-4cf1-aa97-5bf5d7a9acc5",
   "metadata": {},
   "outputs": [
    {
     "name": "stdout",
     "output_type": "stream",
     "text": [
      "0\n"
     ]
    }
   ],
   "source": [
    "def minimumScore(nums, k):\n",
    "    min_score = float('inf')\n",
    "\n",
    "    for i in range(len(nums)):\n",
    "        temp = []\n",
    "        for x in range(-k, k + 1):\n",
    "            if i == 0:\n",
    "                temp.append(nums[i] + x)\n",
    "            else:\n",
    "                temp.append(nums[i] + x)\n",
    "        min_val = min(temp)\n",
    "        max_val = max(temp)\n",
    "        score = max_val - min_val\n",
    "        min_score = min(min_score, score)\n",
    "\n",
    "    return min_score\n",
    "nums = [1]\n",
    "k = 0\n",
    "print(minimumScore(nums, k))"
   ]
  },
  {
   "cell_type": "markdown",
   "id": "d98459fa-01f2-49b6-ae37-63002ae1b879",
   "metadata": {},
   "source": [
    "END OF ASSIGNMENT"
   ]
  },
  {
   "cell_type": "code",
   "execution_count": null,
   "id": "139c17c7-6a59-4dd3-be0b-fdcf6c01554b",
   "metadata": {},
   "outputs": [],
   "source": [
    "print(end of assignmw)"
   ]
  }
 ],
 "metadata": {
  "kernelspec": {
   "display_name": "Python 3 (ipykernel)",
   "language": "python",
   "name": "python3"
  },
  "language_info": {
   "codemirror_mode": {
    "name": "ipython",
    "version": 3
   },
   "file_extension": ".py",
   "mimetype": "text/x-python",
   "name": "python",
   "nbconvert_exporter": "python",
   "pygments_lexer": "ipython3",
   "version": "3.10.8"
  }
 },
 "nbformat": 4,
 "nbformat_minor": 5
}
