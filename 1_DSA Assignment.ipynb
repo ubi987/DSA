{
 "cells": [
  {
   "cell_type": "markdown",
   "id": "7b6612b3-c60f-4f6f-8fff-7685a76b14d1",
   "metadata": {},
   "source": [
    "Q1 SOLUTION:"
   ]
  },
  {
   "cell_type": "code",
   "execution_count": 4,
   "id": "15eca96f-06fd-462f-bf77-ba264bf0d9b5",
   "metadata": {},
   "outputs": [
    {
     "name": "stdout",
     "output_type": "stream",
     "text": [
      "[0, 1]\n"
     ]
    }
   ],
   "source": [
    "def two_sum(nums, target):\n",
    "    complement_dict = {}\n",
    "\n",
    "    for i, num in enumerate(nums):\n",
    "        complement = target - num\n",
    "        if complement in complement_dict:\n",
    "            return [complement_dict[complement], i]\n",
    "        else:\n",
    "            complement_dict[num] = i\n",
    "    return []\n",
    "nums = [2, 7, 11, 15]\n",
    "target = 9\n",
    "indices = two_sum(nums, target)\n",
    "print(indices)"
   ]
  },
  {
   "cell_type": "markdown",
   "id": "0ffe42af-067d-4222-ac03-b172ef00964e",
   "metadata": {},
   "source": [
    "Q2 SOLUTION"
   ]
  },
  {
   "cell_type": "code",
   "execution_count": 1,
   "id": "0797f12a-a48a-48c1-8144-873a0b96519f",
   "metadata": {},
   "outputs": [
    {
     "name": "stdout",
     "output_type": "stream",
     "text": [
      "2\n"
     ]
    }
   ],
   "source": [
    "def remove_element(nums, val):\n",
    "    i = 0\n",
    "    j = 0\n",
    "\n",
    "    while i < len(nums):\n",
    "        if nums[i] != val:\n",
    "            nums[j] = nums[i]\n",
    "            j += 1\n",
    "        i += 1\n",
    "    return j\n",
    "nums = [3, 2, 2, 3]\n",
    "val = 3\n",
    "count = remove_element(nums, val)\n",
    "print(count)"
   ]
  },
  {
   "cell_type": "markdown",
   "id": "1ac17839-948a-4e1b-88c1-64c9d4b2f39d",
   "metadata": {},
   "source": [
    "Q3 SOLUTION"
   ]
  },
  {
   "cell_type": "code",
   "execution_count": 3,
   "id": "73c5b525-d3c6-4683-b05c-2784155bc141",
   "metadata": {},
   "outputs": [
    {
     "name": "stdout",
     "output_type": "stream",
     "text": [
      "2\n"
     ]
    }
   ],
   "source": [
    "def search_insert(nums, target):\n",
    "    left = 0\n",
    "    right = len(nums) - 1\n",
    "\n",
    "    while left <= right:\n",
    "        mid = (left + right) // 2\n",
    "\n",
    "        if nums[mid] == target:\n",
    "            return mid\n",
    "        elif nums[mid] < target:\n",
    "            left = mid + 1\n",
    "        else:\n",
    "            right = mid - 1\n",
    "\n",
    "    return left\n",
    "nums = [1, 3, 5, 6]\n",
    "target = 5\n",
    "index = search_insert(nums, target)\n",
    "print(index)"
   ]
  },
  {
   "cell_type": "markdown",
   "id": "3d4bfa59-2e20-4ebb-80fd-f2a46cddd299",
   "metadata": {},
   "source": [
    "Q4 SOLUTION"
   ]
  },
  {
   "cell_type": "code",
   "execution_count": 4,
   "id": "8353483e-66ea-4f18-b2e3-37ae32a6233b",
   "metadata": {},
   "outputs": [
    {
     "name": "stdout",
     "output_type": "stream",
     "text": [
      "[1, 2, 4]\n"
     ]
    }
   ],
   "source": [
    "def plusOne(digits):\n",
    "    n = len(digits)\n",
    "    for i in range(n - 1, -1, -1):\n",
    "        digits[i] += 1\n",
    "        if digits[i] == 10:\n",
    "            digits[i] = 0\n",
    "        else:\n",
    "            return digits\n",
    "\n",
    "    return [1] + digits\n",
    "digits = [1, 2, 3]\n",
    "result = plusOne(digits)\n",
    "print(result)"
   ]
  },
  {
   "cell_type": "markdown",
   "id": "67d5cf91-51b4-402c-93fd-470b8fece11e",
   "metadata": {},
   "source": [
    "Q5 SOLUTION"
   ]
  },
  {
   "cell_type": "code",
   "execution_count": 1,
   "id": "a62b85d4-76c5-4ae0-9136-291f91972a10",
   "metadata": {},
   "outputs": [
    {
     "name": "stdout",
     "output_type": "stream",
     "text": [
      "[1, 2, 2, 3, 5, 6]\n"
     ]
    }
   ],
   "source": [
    "def merge(nums1, m, nums2, n):\n",
    "    p1 = m - 1\n",
    "    p2 = n - 1\n",
    "    p = m + n - 1\n",
    "    while p1 >= 0 and p2 >= 0:\n",
    "        if nums1[p1] <= nums2[p2]:\n",
    "            nums1[p] = nums2[p2]\n",
    "            p2 -= 1\n",
    "        else:\n",
    "            nums1[p] = nums1[p1]\n",
    "            p1 -= 1\n",
    "        p -= 1\n",
    "    nums1[:p2 + 1] = nums2[:p2 + 1]\n",
    "\n",
    "nums1 = [1, 2, 3, 0, 0, 0]\n",
    "m = 3\n",
    "nums2 = [2, 5, 6]\n",
    "n = 3\n",
    "\n",
    "merge(nums1, m, nums2, n)\n",
    "print(nums1)"
   ]
  },
  {
   "cell_type": "markdown",
   "id": "80ca5eeb-48d9-478c-9342-93ea6e6c2462",
   "metadata": {},
   "source": [
    "Q6 SOLUTION"
   ]
  },
  {
   "cell_type": "code",
   "execution_count": 4,
   "id": "dbaf793a-4265-47c1-a3f4-8e7e722696cf",
   "metadata": {},
   "outputs": [
    {
     "name": "stdout",
     "output_type": "stream",
     "text": [
      "True\n"
     ]
    }
   ],
   "source": [
    "def containsDuplicate(nums):\n",
    "    num_set = set()\n",
    "    for num in nums:\n",
    "        if num in num_set:\n",
    "            return True\n",
    "        num_set.add(num)\n",
    "    return False\n",
    "nums = [1,2,3,1]\n",
    "result = containsDuplicate(nums)\n",
    "print(result)"
   ]
  },
  {
   "cell_type": "markdown",
   "id": "e4dd8ea5-67fe-4855-8570-ad98fcb2bd87",
   "metadata": {},
   "source": [
    "Q7 SOLUTION"
   ]
  },
  {
   "cell_type": "code",
   "execution_count": 5,
   "id": "94d4a744-e5bc-472c-b700-5bccd2b2f03c",
   "metadata": {},
   "outputs": [
    {
     "name": "stdout",
     "output_type": "stream",
     "text": [
      "[1, 3, 12, 0, 0]\n"
     ]
    }
   ],
   "source": [
    "def moveZeroes(nums):\n",
    "    nonzero_ptr = 0\n",
    "    for i in range(len(nums)):\n",
    "        if nums[i] != 0:\n",
    "            nums[nonzero_ptr] = nums[i]\n",
    "            nonzero_ptr += 1\n",
    "    while nonzero_ptr < len(nums):\n",
    "        nums[nonzero_ptr] = 0\n",
    "        nonzero_ptr += 1\n",
    "nums = [0, 1, 0, 3, 12]\n",
    "moveZeroes(nums)\n",
    "print(nums) "
   ]
  },
  {
   "cell_type": "code",
   "execution_count": null,
   "id": "9582598f-e2b9-4bb2-abef-2bfeb56514d1",
   "metadata": {},
   "outputs": [],
   "source": []
  }
 ],
 "metadata": {
  "kernelspec": {
   "display_name": "Python 3 (ipykernel)",
   "language": "python",
   "name": "python3"
  },
  "language_info": {
   "codemirror_mode": {
    "name": "ipython",
    "version": 3
   },
   "file_extension": ".py",
   "mimetype": "text/x-python",
   "name": "python",
   "nbconvert_exporter": "python",
   "pygments_lexer": "ipython3",
   "version": "3.10.8"
  }
 },
 "nbformat": 4,
 "nbformat_minor": 5
}
