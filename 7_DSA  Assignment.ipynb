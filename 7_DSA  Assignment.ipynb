{
 "cells": [
  {
   "cell_type": "markdown",
   "id": "36bdf29f-24be-4885-95b9-aa2e55f6c51c",
   "metadata": {},
   "source": [
    "Q1 SOLUTION"
   ]
  },
  {
   "cell_type": "code",
   "execution_count": 3,
   "id": "c9d10284-5d48-49d3-b630-6b0f089c7310",
   "metadata": {},
   "outputs": [
    {
     "name": "stdout",
     "output_type": "stream",
     "text": [
      "True\n"
     ]
    }
   ],
   "source": [
    "def isIsomorphic(s, t):\n",
    "    if len(s) != len(t):\n",
    "        return False\n",
    "\n",
    "    s_to_t = {}\n",
    "    t_to_s = {}\n",
    "\n",
    "    for s_char, t_char in zip(s, t):\n",
    "        if s_char in s_to_t:\n",
    "            if s_to_t[s_char] != t_char:\n",
    "                return False\n",
    "        elif t_char in t_to_s:\n",
    "            if t_to_s[t_char] != s_char:\n",
    "                return False\n",
    "        else:\n",
    "            s_to_t[s_char] = t_char\n",
    "            t_to_s[t_char] = s_char\n",
    "\n",
    "    return True\n",
    "s = \"egg\"\n",
    "t = \"add\"\n",
    "print(isIsomorphic(s, t))"
   ]
  },
  {
   "cell_type": "markdown",
   "id": "13d75c64-a49c-4aa8-bfc0-8c66ab80e024",
   "metadata": {},
   "source": [
    "Q2 SOLUTION"
   ]
  },
  {
   "cell_type": "code",
   "execution_count": 4,
   "id": "4e70eb17-d765-4552-9a10-30d9cdd0b5ad",
   "metadata": {},
   "outputs": [
    {
     "name": "stdout",
     "output_type": "stream",
     "text": [
      "True\n"
     ]
    }
   ],
   "source": [
    "def isStrobogrammatic(num):\n",
    "    left, right = 0, len(num) - 1\n",
    "    strobogrammatic_pairs = {'0': '0', '1': '1', '6': '9', '8': '8', '9': '6'}\n",
    "\n",
    "    while left <= right:\n",
    "        if num[left] not in strobogrammatic_pairs or num[right] != strobogrammatic_pairs[num[left]]:\n",
    "            return False\n",
    "        left += 1\n",
    "        right -= 1\n",
    "\n",
    "    return True\n",
    "num = \"69\"\n",
    "print(isStrobogrammatic(num))"
   ]
  },
  {
   "cell_type": "markdown",
   "id": "ee6e0903-7ab0-4ec9-9d6a-c010e7be1337",
   "metadata": {},
   "source": [
    "Q3 SOLUTION"
   ]
  },
  {
   "cell_type": "code",
   "execution_count": 5,
   "id": "0a2034b2-15f1-4183-98c4-5f9970e50919",
   "metadata": {},
   "outputs": [
    {
     "name": "stdout",
     "output_type": "stream",
     "text": [
      "134\n"
     ]
    }
   ],
   "source": [
    "def addStrings(num1, num2):\n",
    "    i = len(num1) - 1\n",
    "    j = len(num2) - 1\n",
    "    carry = 0\n",
    "    result = ''\n",
    "\n",
    "    while i >= 0 or j >= 0:\n",
    "        x = int(num1[i]) if i >= 0 else 0\n",
    "        y = int(num2[j]) if j >= 0 else 0\n",
    "        s = x + y + carry\n",
    "        carry = s // 10\n",
    "        result = str(s % 10) + result\n",
    "        i -= 1\n",
    "        j -= 1\n",
    "\n",
    "    if carry:\n",
    "        result = str(carry) + result\n",
    "\n",
    "    return result\n",
    "num1 = \"11\"\n",
    "num2 = \"123\"\n",
    "print(addStrings(num1, num2))"
   ]
  },
  {
   "cell_type": "markdown",
   "id": "d567d0f9-58a2-437a-b256-c875bd0fc404",
   "metadata": {},
   "source": [
    "Q4 SOLUTION"
   ]
  },
  {
   "cell_type": "code",
   "execution_count": 6,
   "id": "eabf9a11-d2e8-4444-8560-cf976123a43c",
   "metadata": {},
   "outputs": [
    {
     "name": "stdout",
     "output_type": "stream",
     "text": [
      "s'teL ekat edoCteeL tsetnoc\n"
     ]
    }
   ],
   "source": [
    "def reverseWords(s):\n",
    "   \n",
    "    words = s.split()\n",
    "\n",
    "    reversed_words = [word[::-1] for word in words]\n",
    "\n",
    "    reversed_sentence = ' '.join(reversed_words)\n",
    "\n",
    "    return reversed_sentence\n",
    "s = \"Let's take LeetCode contest\"\n",
    "print(reverseWords(s))"
   ]
  },
  {
   "cell_type": "markdown",
   "id": "7a86a7d8-529c-4e55-a512-47b43d3f37c9",
   "metadata": {},
   "source": [
    "Q5 SOLUTION"
   ]
  },
  {
   "cell_type": "code",
   "execution_count": 7,
   "id": "df7fce94-e93e-4c31-ae35-dd86df54c7da",
   "metadata": {},
   "outputs": [
    {
     "name": "stdout",
     "output_type": "stream",
     "text": [
      "bacdfeg\n"
     ]
    }
   ],
   "source": [
    "def reverseStr(s, k):\n",
    "    chars = list(s)\n",
    "    n = len(chars)\n",
    "\n",
    "    for i in range(0, n, 2 * k):\n",
    "        left = i\n",
    "        right = min(i + k - 1, n - 1)  \n",
    "\n",
    "        while left < right:\n",
    "            chars[left], chars[right] = chars[right], chars[left]\n",
    "            left += 1\n",
    "            right -= 1\n",
    "\n",
    "    return ''.join(chars)\n",
    "s = \"abcdefg\"\n",
    "k = 2\n",
    "print(reverseStr(s, k))"
   ]
  },
  {
   "cell_type": "markdown",
   "id": "e4534b41-224b-4ecc-9a27-b7f2559ceb3f",
   "metadata": {},
   "source": [
    "Q6 SOLUTION"
   ]
  },
  {
   "cell_type": "code",
   "execution_count": 8,
   "id": "acfdc3a4-d015-4db1-9abd-9e314d14aa8c",
   "metadata": {},
   "outputs": [
    {
     "name": "stdout",
     "output_type": "stream",
     "text": [
      "bacde\n"
     ]
    }
   ],
   "source": [
    "def reverseStr(s, k):\n",
    "   \n",
    "    chars = list(s)\n",
    "    n = len(chars)\n",
    "\n",
    "    for i in range(0, n, 2 * k):\n",
    "        left = i\n",
    "        right = min(i + k - 1, n - 1) \n",
    "\n",
    "        while left < right:\n",
    "            chars[left], chars[right] = chars[right], chars[left]\n",
    "            left += 1\n",
    "            right -= 1\n",
    "\n",
    "    return ''.join(chars)\n",
    "s = \"abcde\"\n",
    "goal = \"cdeab\"\n",
    "print(reverseStr(s, k))"
   ]
  },
  {
   "cell_type": "markdown",
   "id": "9b505fa4-b31e-454c-bc28-b0155a55ffdb",
   "metadata": {},
   "source": [
    "Q7 SOLUTION"
   ]
  },
  {
   "cell_type": "code",
   "execution_count": 9,
   "id": "6d61048f-ab71-4398-8291-f06dd76699e3",
   "metadata": {},
   "outputs": [
    {
     "name": "stdout",
     "output_type": "stream",
     "text": [
      "ac\n"
     ]
    }
   ],
   "source": [
    "def processString(s):\n",
    "    stack = []\n",
    "\n",
    "    for ch in s:\n",
    "        if ch != '#':\n",
    "            stack.append(ch)\n",
    "        elif stack:\n",
    "            stack.pop()\n",
    "\n",
    "    return ''.join(stack)\n",
    "\n",
    "def backspaceCompare(s, t):\n",
    "    return processString(s) == processString(t)\n",
    "s = \"ab#c\"\n",
    "t = \"ad#c\"\n",
    "print(processString(s))"
   ]
  },
  {
   "cell_type": "markdown",
   "id": "1a854c9d-dd92-4454-b98b-6ed6a4eead36",
   "metadata": {},
   "source": [
    "Q8 SOLUTION"
   ]
  },
  {
   "cell_type": "code",
   "execution_count": null,
   "id": "a25d462d-021f-4910-b409-3e0fbdb8cb12",
   "metadata": {},
   "outputs": [],
   "source": []
  }
 ],
 "metadata": {
  "kernelspec": {
   "display_name": "Python 3 (ipykernel)",
   "language": "python",
   "name": "python3"
  },
  "language_info": {
   "codemirror_mode": {
    "name": "ipython",
    "version": 3
   },
   "file_extension": ".py",
   "mimetype": "text/x-python",
   "name": "python",
   "nbconvert_exporter": "python",
   "pygments_lexer": "ipython3",
   "version": "3.10.8"
  }
 },
 "nbformat": 4,
 "nbformat_minor": 5
}
